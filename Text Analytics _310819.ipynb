{
 "cells": [
  {
   "cell_type": "code",
   "execution_count": null,
   "metadata": {},
   "outputs": [],
   "source": [
    "the polarity of the tweet (0 = negative, 2 = neutral, 4 = positive)"
   ]
  },
  {
   "cell_type": "code",
   "execution_count": 40,
   "metadata": {},
   "outputs": [
    {
     "data": {
      "text/html": [
       "<div>\n",
       "<style scoped>\n",
       "    .dataframe tbody tr th:only-of-type {\n",
       "        vertical-align: middle;\n",
       "    }\n",
       "\n",
       "    .dataframe tbody tr th {\n",
       "        vertical-align: top;\n",
       "    }\n",
       "\n",
       "    .dataframe thead th {\n",
       "        text-align: right;\n",
       "    }\n",
       "</style>\n",
       "<table border=\"1\" class=\"dataframe\">\n",
       "  <thead>\n",
       "    <tr style=\"text-align: right;\">\n",
       "      <th></th>\n",
       "      <th>Tweet</th>\n",
       "      <th>Category</th>\n",
       "    </tr>\n",
       "  </thead>\n",
       "  <tbody>\n",
       "    <tr>\n",
       "      <th>0</th>\n",
       "      <td>Tweet</td>\n",
       "      <td>Category</td>\n",
       "    </tr>\n",
       "    <tr>\n",
       "      <th>1</th>\n",
       "      <td>Not Available</td>\n",
       "      <td>negative</td>\n",
       "    </tr>\n",
       "    <tr>\n",
       "      <th>2</th>\n",
       "      <td>IOS 9 App Transport Security. Mm need to check...</td>\n",
       "      <td>neutral</td>\n",
       "    </tr>\n",
       "    <tr>\n",
       "      <th>3</th>\n",
       "      <td>Mar if you have an iOS device, you should down...</td>\n",
       "      <td>neutral</td>\n",
       "    </tr>\n",
       "    <tr>\n",
       "      <th>4</th>\n",
       "      <td>@jimmie_vanagon my phone does not run on lates...</td>\n",
       "      <td>negative</td>\n",
       "    </tr>\n",
       "  </tbody>\n",
       "</table>\n",
       "</div>"
      ],
      "text/plain": [
       "                                               Tweet  Category\n",
       "0                                              Tweet  Category\n",
       "1                                      Not Available  negative\n",
       "2  IOS 9 App Transport Security. Mm need to check...   neutral\n",
       "3  Mar if you have an iOS device, you should down...   neutral\n",
       "4  @jimmie_vanagon my phone does not run on lates...  negative"
      ]
     },
     "execution_count": 40,
     "metadata": {},
     "output_type": "execute_result"
    }
   ],
   "source": [
    "import pandas as pd  \n",
    "import numpy as np\n",
    "import matplotlib.pyplot as plt\n",
    "cols = ['Tweet','Category',]\n",
    "df = pd.read_csv(\"C:\\\\Users\\\\Dell\\\\New folder\\\\Desktop\\\\2Trimester\\\\Day3\\\\TweetSent.csv\",header=None, names=cols)\n",
    "# above line will be different depending on where you saved your data, and your file name\n",
    "df.head()"
   ]
  },
  {
   "cell_type": "code",
   "execution_count": 64,
   "metadata": {},
   "outputs": [
    {
     "data": {
      "text/plain": [
       "positive    2888\n",
       "neutral     2123\n",
       "negative     956\n",
       "Category       1\n",
       "Tweet          1\n",
       "Name: Category, dtype: int64"
      ]
     },
     "execution_count": 64,
     "metadata": {},
     "output_type": "execute_result"
    }
   ],
   "source": [
    "df.Category.value_counts()"
   ]
  },
  {
   "cell_type": "code",
   "execution_count": 47,
   "metadata": {},
   "outputs": [
    {
     "data": {
      "text/html": [
       "<div>\n",
       "<style scoped>\n",
       "    .dataframe tbody tr th:only-of-type {\n",
       "        vertical-align: middle;\n",
       "    }\n",
       "\n",
       "    .dataframe tbody tr th {\n",
       "        vertical-align: top;\n",
       "    }\n",
       "\n",
       "    .dataframe thead th {\n",
       "        text-align: right;\n",
       "    }\n",
       "</style>\n",
       "<table border=\"1\" class=\"dataframe\">\n",
       "  <thead>\n",
       "    <tr style=\"text-align: right;\">\n",
       "      <th></th>\n",
       "      <th>Tweet</th>\n",
       "      <th>Category</th>\n",
       "    </tr>\n",
       "  </thead>\n",
       "  <tbody>\n",
       "    <tr>\n",
       "      <th>0</th>\n",
       "      <td>Tweet</td>\n",
       "      <td>Category</td>\n",
       "    </tr>\n",
       "    <tr>\n",
       "      <th>1</th>\n",
       "      <td>Not Available</td>\n",
       "      <td>negative</td>\n",
       "    </tr>\n",
       "    <tr>\n",
       "      <th>2</th>\n",
       "      <td>IOS 9 App Transport Security. Mm need to check...</td>\n",
       "      <td>neutral</td>\n",
       "    </tr>\n",
       "    <tr>\n",
       "      <th>3</th>\n",
       "      <td>Mar if you have an iOS device, you should down...</td>\n",
       "      <td>neutral</td>\n",
       "    </tr>\n",
       "    <tr>\n",
       "      <th>4</th>\n",
       "      <td>@jimmie_vanagon my phone does not run on lates...</td>\n",
       "      <td>negative</td>\n",
       "    </tr>\n",
       "    <tr>\n",
       "      <th>5</th>\n",
       "      <td>Not sure how to start your publication on iOS?...</td>\n",
       "      <td>positive</td>\n",
       "    </tr>\n",
       "    <tr>\n",
       "      <th>6</th>\n",
       "      <td>Two Dollar Tuesday is here with Forklift 2, Qu...</td>\n",
       "      <td>neutral</td>\n",
       "    </tr>\n",
       "    <tr>\n",
       "      <th>7</th>\n",
       "      <td>If you're not already signed up to test my iOS...</td>\n",
       "      <td>neutral</td>\n",
       "    </tr>\n",
       "    <tr>\n",
       "      <th>8</th>\n",
       "      <td>YouTube Gaming Officially Launches On Web, And...</td>\n",
       "      <td>neutral</td>\n",
       "    </tr>\n",
       "    <tr>\n",
       "      <th>9</th>\n",
       "      <td>YouTube Gaming Launches Tomorrow with iOS and ...</td>\n",
       "      <td>neutral</td>\n",
       "    </tr>\n",
       "  </tbody>\n",
       "</table>\n",
       "</div>"
      ],
      "text/plain": [
       "                                               Tweet  Category\n",
       "0                                              Tweet  Category\n",
       "1                                      Not Available  negative\n",
       "2  IOS 9 App Transport Security. Mm need to check...   neutral\n",
       "3  Mar if you have an iOS device, you should down...   neutral\n",
       "4  @jimmie_vanagon my phone does not run on lates...  negative\n",
       "5  Not sure how to start your publication on iOS?...  positive\n",
       "6  Two Dollar Tuesday is here with Forklift 2, Qu...   neutral\n",
       "7  If you're not already signed up to test my iOS...   neutral\n",
       "8  YouTube Gaming Officially Launches On Web, And...   neutral\n",
       "9  YouTube Gaming Launches Tomorrow with iOS and ...   neutral"
      ]
     },
     "execution_count": 47,
     "metadata": {},
     "output_type": "execute_result"
    }
   ],
   "source": [
    "df.head(10)"
   ]
  },
  {
   "cell_type": "markdown",
   "metadata": {},
   "source": [
    "# Data Preparation,\n",
    "# As a way of sanity check, let’s look at the length of the string in text column in each entry."
   ]
  },
  {
   "cell_type": "code",
   "execution_count": 74,
   "metadata": {},
   "outputs": [],
   "source": [
    "df['pre_clean_len'] = [len(t) for t in df.Tweet]"
   ]
  },
  {
   "cell_type": "markdown",
   "metadata": {},
   "source": [
    "# Data Dictionary — first draft\n",
    "Below is the first draft of the data dictionary for the dataset, but as I go through preparation, this will need to be updated."
   ]
  },
  {
   "cell_type": "code",
   "execution_count": 75,
   "metadata": {},
   "outputs": [
    {
     "name": "stdout",
     "output_type": "stream",
     "text": [
      "{'Category': {'description': 'Category class - 0:negative, 1:positive',\n",
      "              'type': dtype('O')},\n",
      " 'dataset_shape': (5969, 3),\n",
      " 'pre_clean_len': {'description': 'Length of the tweet before cleaning',\n",
      "                   'type': dtype('int64')},\n",
      " 'text': {'description': 'tweet text', 'type': dtype('O')}}\n"
     ]
    }
   ],
   "source": [
    "from pprint import pprint\n",
    "data_dict = {\n",
    "    'Category':{\n",
    "        'type':df.Category.dtype,\n",
    "        'description':'Category class - 0:negative, 1:positive'\n",
    "    },\n",
    "    'text':{\n",
    "        'type':df.Tweet.dtype,\n",
    "        'description':'tweet text'\n",
    "    },\n",
    "    'pre_clean_len':{\n",
    "        'type':df.pre_clean_len.dtype,\n",
    "        'description':'Length of the tweet before cleaning'\n",
    "    },\n",
    "    'dataset_shape':df.shape\n",
    "}\n",
    "pprint(data_dict)"
   ]
  },
  {
   "cell_type": "markdown",
   "metadata": {},
   "source": [
    "# I will also plot pre_clean_len with box plot, so that I can see the overall distribution of length of strings in each entry."
   ]
  },
  {
   "cell_type": "code",
   "execution_count": 76,
   "metadata": {},
   "outputs": [
    {
     "data": {
      "image/png": "[encoded data removed]",
      "text/plain": [
       "<Figure size 360x360 with 1 Axes>"
      ]
     },
     "metadata": {
      "needs_background": "light"
     },
     "output_type": "display_data"
    }
   ],
   "source": [
    "fig, ax = plt.subplots(figsize=(5, 5))\n",
    "plt.boxplot(df.pre_clean_len)\n",
    "plt.show()"
   ]
  },
  {
   "cell_type": "code",
   "execution_count": 77,
   "metadata": {},
   "outputs": [
    {
     "data": {
      "text/html": [
       "<div>\n",
       "<style scoped>\n",
       "    .dataframe tbody tr th:only-of-type {\n",
       "        vertical-align: middle;\n",
       "    }\n",
       "\n",
       "    .dataframe tbody tr th {\n",
       "        vertical-align: top;\n",
       "    }\n",
       "\n",
       "    .dataframe thead th {\n",
       "        text-align: right;\n",
       "    }\n",
       "</style>\n",
       "<table border=\"1\" class=\"dataframe\">\n",
       "  <thead>\n",
       "    <tr style=\"text-align: right;\">\n",
       "      <th></th>\n",
       "      <th>Tweet</th>\n",
       "      <th>Category</th>\n",
       "      <th>pre_clean_len</th>\n",
       "    </tr>\n",
       "  </thead>\n",
       "  <tbody>\n",
       "    <tr>\n",
       "      <th>11</th>\n",
       "      <td>Parkrun app for iOS downloaded Where have you ...</td>\n",
       "      <td>positive</td>\n",
       "      <td>144</td>\n",
       "    </tr>\n",
       "    <tr>\n",
       "      <th>39</th>\n",
       "      <td>@rwang0 zeroes in on the latest in a short vid...</td>\n",
       "      <td>positive</td>\n",
       "      <td>147</td>\n",
       "    </tr>\n",
       "    <tr>\n",
       "      <th>66</th>\n",
       "      <td>@flyshorts BTW I &amp;amp; others have run into a ...</td>\n",
       "      <td>neutral</td>\n",
       "      <td>142</td>\n",
       "    </tr>\n",
       "    <tr>\n",
       "      <th>80</th>\n",
       "      <td>@KymLang links are working fine on my IOS devi...</td>\n",
       "      <td>positive</td>\n",
       "      <td>144</td>\n",
       "    </tr>\n",
       "    <tr>\n",
       "      <th>83</th>\n",
       "      <td>Tech: Android&amp;gt;Star Wars: Uprising launches ...</td>\n",
       "      <td>positive</td>\n",
       "      <td>142</td>\n",
       "    </tr>\n",
       "    <tr>\n",
       "      <th>157</th>\n",
       "      <td>#Apple is expected to unveil 2 iPhones, an App...</td>\n",
       "      <td>positive</td>\n",
       "      <td>143</td>\n",
       "    </tr>\n",
       "    <tr>\n",
       "      <th>243</th>\n",
       "      <td>If Apple is upgrading the camera on the iPhone...</td>\n",
       "      <td>positive</td>\n",
       "      <td>144</td>\n",
       "    </tr>\n",
       "    <tr>\n",
       "      <th>253</th>\n",
       "      <td>This the 1st year I've not been to excited abo...</td>\n",
       "      <td>positive</td>\n",
       "      <td>142</td>\n",
       "    </tr>\n",
       "    <tr>\n",
       "      <th>285</th>\n",
       "      <td>I turn 30 soon &amp;amp; a friend went missing on ...</td>\n",
       "      <td>negative</td>\n",
       "      <td>144</td>\n",
       "    </tr>\n",
       "    <tr>\n",
       "      <th>339</th>\n",
       "      <td>If you found a set of headphones &amp;amp; an iPod...</td>\n",
       "      <td>neutral</td>\n",
       "      <td>142</td>\n",
       "    </tr>\n",
       "  </tbody>\n",
       "</table>\n",
       "</div>"
      ],
      "text/plain": [
       "                                                 Tweet  Category  \\\n",
       "11   Parkrun app for iOS downloaded Where have you ...  positive   \n",
       "39   @rwang0 zeroes in on the latest in a short vid...  positive   \n",
       "66   @flyshorts BTW I &amp; others have run into a ...   neutral   \n",
       "80   @KymLang links are working fine on my IOS devi...  positive   \n",
       "83   Tech: Android&gt;Star Wars: Uprising launches ...  positive   \n",
       "157  #Apple is expected to unveil 2 iPhones, an App...  positive   \n",
       "243  If Apple is upgrading the camera on the iPhone...  positive   \n",
       "253  This the 1st year I've not been to excited abo...  positive   \n",
       "285  I turn 30 soon &amp; a friend went missing on ...  negative   \n",
       "339  If you found a set of headphones &amp; an iPod...   neutral   \n",
       "\n",
       "     pre_clean_len  \n",
       "11             144  \n",
       "39             147  \n",
       "66             142  \n",
       "80             144  \n",
       "83             142  \n",
       "157            143  \n",
       "243            144  \n",
       "253            142  \n",
       "285            144  \n",
       "339            142  "
      ]
     },
     "execution_count": 77,
     "metadata": {},
     "output_type": "execute_result"
    }
   ],
   "source": [
    "df[df.pre_clean_len > 140].head(10)"
   ]
  },
  {
   "cell_type": "markdown",
   "metadata": {},
   "source": [
    "# Defining data cleaning function\n",
    "With above five data cleaning task, I will first define data cleaning function, and then will be applied to the whole dataset. Tokenization, stemming/lemmatization, stop words will be dealt with later stage when creating matrix with either count vectorizer or Tfidf vectorizer."
   ]
  },
  {
   "cell_type": "code",
   "execution_count": 97,
   "metadata": {},
   "outputs": [
    {
     "data": {
      "text/plain": [
       "'Get the popcorn (or coffee in my case) ready, folks. 1 hour till the new iPhone event! Tuning in from #Asheville, NC. http://t.co/sTI3xeHGhV'"
      ]
     },
     "execution_count": 97,
     "metadata": {},
     "output_type": "execute_result"
    }
   ],
   "source": [
    "df.Tweet[279]"
   ]
  },
  {
   "cell_type": "code",
   "execution_count": 106,
   "metadata": {},
   "outputs": [
    {
     "data": {
      "text/plain": [
       "'Get the popcorn (or coffee in my case) ready, folks. 1 hour till the new iPhone event! Tuning in from #Asheville, NC. http://t.co/sTI3xeHGhV'"
      ]
     },
     "execution_count": 106,
     "metadata": {},
     "output_type": "execute_result"
    }
   ],
   "source": [
    "import re\n",
    "re.sub(r'@[A-Za-z0-9]+','',df.Tweet[279])\n"
   ]
  },
  {
   "cell_type": "code",
   "execution_count": 107,
   "metadata": {},
   "outputs": [
    {
     "data": {
      "text/plain": [
       "'Get the popcorn (or coffee in my case) ready, folks. 1 hour till the new iPhone event! Tuning in from #Asheville, NC. '"
      ]
     },
     "execution_count": 107,
     "metadata": {},
     "output_type": "execute_result"
    }
   ],
   "source": [
    "re.sub('https?://[A-Za-z0-9./]+','',df.Tweet[279])"
   ]
  },
  {
   "cell_type": "code",
   "execution_count": 112,
   "metadata": {},
   "outputs": [
    {
     "data": {
      "text/plain": [
       "\"iPad Pro, Apple TV expected to take center stage Wednesday: It's that time of the year. For five years, Apple ... http://t.co/eHpn3KzylM\""
      ]
     },
     "execution_count": 112,
     "metadata": {},
     "output_type": "execute_result"
    }
   ],
   "source": [
    "df.Tweet[175]"
   ]
  },
  {
   "cell_type": "code",
   "execution_count": 113,
   "metadata": {},
   "outputs": [
    {
     "data": {
      "text/plain": [
       "\"iPad Pro, Apple TV expected to take center stage Wednesday: It's that time of the year. For five years, Apple ... \""
      ]
     },
     "execution_count": 113,
     "metadata": {},
     "output_type": "execute_result"
    }
   ],
   "source": [
    "re.sub('https?://[A-Za-z0-9./]+','',df.Tweet[175])"
   ]
  },
  {
   "cell_type": "code",
   "execution_count": 120,
   "metadata": {},
   "outputs": [
    {
     "data": {
      "text/plain": [
       "\"It was fun to see the excitement on the 6th graders' faces. And some of them seem to be iPad pros already! https://t.co/YnZtTTyg4W\""
      ]
     },
     "execution_count": 120,
     "metadata": {},
     "output_type": "execute_result"
    }
   ],
   "source": [
    "df.Tweet[186]"
   ]
  },
  {
   "cell_type": "code",
   "execution_count": 121,
   "metadata": {},
   "outputs": [
    {
     "data": {
      "text/plain": [
       "\"It was fun to see the excitement on the 6th graders' faces. And some of them seem to be iPad pros already! \""
      ]
     },
     "execution_count": 121,
     "metadata": {},
     "output_type": "execute_result"
    }
   ],
   "source": [
    "re.sub('https?://[A-Za-z0-9./]+','',df.Tweet[186])"
   ]
  },
  {
   "cell_type": "code",
   "execution_count": 124,
   "metadata": {},
   "outputs": [],
   "source": [
    "from bs4 import BeautifulSoup"
   ]
  },
  {
   "cell_type": "code",
   "execution_count": 125,
   "metadata": {},
   "outputs": [
    {
     "data": {
      "text/plain": [
       "['tweet',\n",
       " 'not available',\n",
       " 'ios app transport security mm need to check if my rd party network pod supports it',\n",
       " 'mar if you have an ios device you should download our app too',\n",
       " 'vanagon my phone does not run on latest ios which may account for problem the other day time it was replaced',\n",
       " 'not sure how to start your publication on ios we ll be live helping with ask me anything sessions today and friday',\n",
       " 'two dollar tuesday is here with forklift quickkey for ios and suite for pages for just today',\n",
       " 'if you re not already signed up to test my ios game nows your chance',\n",
       " 'youtube gaming officially launches on web android ios on august youtube is finally going to r webseries',\n",
       " 'youtube gaming launches tomorrow with ios and android apps to go head to head with twitch ios game',\n",
       " 'yashan from bbc the vpn access on ios may be limited during china s military parade any chance to have a chat on that',\n",
       " 'parkrun app for ios downloaded where have you been before great app easier access of info ready for saturday s run',\n",
       " 'today launches with apps for ios and android devices in the us and uk here is what you need to know',\n",
       " 'got a project you want to work on need help with swift need an excuse to hang with ios devs on a sat hang with us',\n",
       " 'met with ios developer today we may have a go',\n",
       " 'crossskyhigh is going ios saturday for now try this indiedev',\n",
       " 'what s the best way to get audio recordings from a rd party app off of an ios device jailbreaking isn t an option',\n",
       " 'five great free apps and games for ios august th edition it s that time of the week again news lchbuzz',\n",
       " 'looks interesting but i ve always ended up back on ios keyboard always glitches with ios rd party ones',\n",
       " 'see news through the eyes of real people be your own reporter with fresco for ios coming september th',\n",
       " 'siri knows all about apple s ios event on the th giveusahint',\n",
       " 'who s ready for build tomorrow might be the last build till it come to ios',\n",
       " 'as i ve been on fb for many years i have a few hundred photo albums but only the st appear in the ios app is that right',\n",
       " 'try beat mp it may be on android i have it on ios and its fairly decent',\n",
       " 'even though there are other differences in the ios features this still may make people lean a little more towards apple',\n",
       " 'huawei watch pre order suggests android wear coming to ios iphone owners who want to use android wear may soo',\n",
       " 'speedenews rumor android wear will soon work with ios android wear may be very close to working with ios that',\n",
       " 'over here in nw near th rhode island if you need a lyft let me know download the lyft app for ios or android',\n",
       " 'dogg ebooks i wish that customfoldericons worked on ios and it was received on december th',\n",
       " 'so today i checked my old ipod th gen which is on ios and it can t be upgraded further and i randomly open twitter',\n",
       " 'tomcc please stop walking and work you have more than one month of late the update was annonced the of july ios wait',\n",
       " 'hi i have heard that they said mcpe update will come today august to ios but i cant see that there is the update',\n",
       " 'logic do you have any news of an update in october for ios and android users',\n",
       " 'a follow on guess might be that if you are female with an ios device visiting the site you may have more disposable income',\n",
       " 'cook loving my new iphone from t mobile i m in love with ios can t wait for the sept th event',\n",
       " 'all android wear is comparable with ios now i believe i may be wrong though',\n",
       " 'google expands android wear smartwatch platform to ios google on monday rolled out android wear smartwatch harmony with',\n",
       " 'yes i asked an attendant to print out a paper pass but this was not the st time delta ios app lost my login info annoying',\n",
       " 'the two companies announced a partnership monday aimed at making ios devices and apps more compatible with ff',\n",
       " 'zeroes in on the latest in a short video making iphone ios great for enterprises st now',\n",
       " 'to all nintendo fans out there i may sound crazy when i say this but kirby and the rainbow curse and or kirby canvas curse should be on ios',\n",
       " 'apple hasn t ever focused on gaming but has enjoyed incredible success with ios gaming apple tv may focus on games',\n",
       " 'may want to pick your brains looking to get into ios dev myself',\n",
       " 'the orks are here to tell you that we re gunning for a sept th release of herald of oblivion on ios and android',\n",
       " 'rd party app on ios does it add a keyboard or you have to type copy paste',\n",
       " 'm t webroot have a jailbroken ios device you may want to reconsider',\n",
       " 'i have the ipod touch th and i have the ios ofc i cant downgrade because is not being signded so now what i supposed to do',\n",
       " 'making my way through your managing ios and macs nd ed book great read really well done thanks for doing this keep it up',\n",
       " 'google s android wear for ios confirmed incompatible with apple s healthkit in announcing android wear for ios on monday google not',\n",
       " 'hi lee my iphone is currently operating on ios do i have to put ios st or can upload ios if so how do i go about it',\n",
       " 'wed night pm pacific join the the blast live right here on fb as we have the founder s of the ios app kander on',\n",
       " 'codigames do you like arpgs dungeon legends arrive to ios on september rd gamedev iphone',\n",
       " 'jailbreaking ios devices may not be the best idea security vulnerabilities in the ios can rarely be security',\n",
       " 'come and have the first ever go on lumino city on ios real models friday til sunday',\n",
       " 'rumor has it that a certain app is available on ios and it s free android coming friday',\n",
       " 'so far we ve announced ios and android versions and we focus on them this may change in the future though',\n",
       " 'may favorite one ever on ios is harbaugh it autocorrects to garbage',\n",
       " 'do u know if the moto nd gen will work with ios devices',\n",
       " 'not available',\n",
       " 'my best guess is we should see mcpe submitted to ios and google by the end of week or into monday if the devs have cleaned up the bugs',\n",
       " 'the next pixel dungeon update for steam and ios with a lot of new features and improvements will be released on september th',\n",
       " 'thursday night on kxlu get the app for ios or android at and listen',\n",
       " 'not available',\n",
       " 'been using vodafone s smart ultra since tuesday can t get the hang of it and finding a few faults with android back to ios i think',\n",
       " 'meet your new old favorite endless runner for ios race the sun macworld',\n",
       " 'are you ready for our new app launch tomorrow build binaries for ios android windows phones and tablets',\n",
       " 'btw i others have run into a fair number of cataloguing issues with the apple music update in ios this may be a symptom',\n",
       " 'this hopefully means that mcpe will come out for ios around the th of september along with all other versions',\n",
       " 'what you should look for from apple s september event a new version of ios will likely arrive with those sh',\n",
       " 'want to speed up your sharing automate a few things from your ios device workflow may be the solution',\n",
       " 'thank you now i may actually have a chance on ios now',\n",
       " 'articlesection classpagepandroid wear may be very close to working with ios',\n",
       " 'not available',\n",
       " 'not available',\n",
       " 'tomcc hey tommaso when is the release date for on ios if the answer is around the th thats where my school starts',\n",
       " 'not available',\n",
       " 'day crowdviz releases on labor day september th an ios app that unites blind people with sighted assistants',\n",
       " 'who cant wait for minecraft on ios but now u dont have to wait cause it will be submitted at th september day left',\n",
       " 'it s quite funny to see ios developers taking advantage of the new ugmonk th anniversary set',\n",
       " 'not available',\n",
       " 'links are working fine on my ios device some times on the first click i get a open in safari cancel it do a nd click works',\n",
       " 'all device build tomorrow or official wp android ios hehe p yay happy day for you',\n",
       " 'tomcc so the for ios will be out tomorrow correct',\n",
       " 'tech android star wars uprising launches september on ios and android gb star wars canon is about t mobile',\n",
       " 'tomcc hi i was wondering do u mean you ll try to release mcpe to ios tomorrow ps your awesome',\n",
       " 'not available',\n",
       " 'check out my ride in csrracing for ios try it for free now car',\n",
       " 'apple releases what the next iphones and ios will be like tomorrow',\n",
       " 'you can download for ios and the show or server won t work until tomorrow be happy and smile more',\n",
       " 'those of you with ios devices ask siri to give you a hint about tomorrow s apple keynote',\n",
       " 'i don t operate any ios devices anymore but i ll still tune into the big show tomorrow still fun to watch the event and see what s what',\n",
       " 'not sure what you mean continuity doesn t require a separate rd device watch for two other ios devices to pair and share',\n",
       " 'ok inbox on ios has a pretty animation for the sun but thew android version doesnt',\n",
       " 'the only time i would say i really enjoyed ios was fifa before i got my console in may soon as i got that i stopped playing it',\n",
       " 'wanna watch the iphone announcement live with any ios device safari browser watch here starting am pst',\n",
       " 'attn beginning oct st munzee will be the only app available for ios and android also is in review and includes bug fixes',\n",
       " 'did you know that we are launching s tower dwellers gold on android tomorrow in tandem with ios',\n",
       " 'ios developer th bangkok market rate my client is the larges',\n",
       " 'like legit though if it was running os x it would be a sick product but since it s running ios you may as well get a retina',\n",
       " 'join the movable challenge get your movband at spirit fest tomorrow or thursday and move one step closer to an ipad']"
      ]
     },
     "execution_count": 125,
     "metadata": {},
     "output_type": "execute_result"
    }
   ],
   "source": [
    "from nltk.tokenize import WordPunctTokenizer\n",
    "tok = WordPunctTokenizer()\n",
    "pat1 = r'@[A-Za-z0-9]+'\n",
    "pat2 = r'https?://[A-Za-z0-9./]+'\n",
    "combined_pat = r'|'.join((pat1, pat2))\n",
    "def tweet_cleaner(text):\n",
    "    soup = BeautifulSoup(text, 'lxml')\n",
    "    souped = soup.get_text()\n",
    "    stripped = re.sub(combined_pat, '', souped)\n",
    "    try:\n",
    "        clean = stripped.decode(\"utf-8-sig\").replace(u\"\\ufffd\", \"?\")\n",
    "    except:\n",
    "        clean = stripped\n",
    "    letters_only = re.sub(\"[^a-zA-Z]\", \" \", clean)\n",
    "    lower_case = letters_only.lower()\n",
    "    # During the letters_only process two lines above, it has created unnecessay white spaces,\n",
    "    # I will tokenize and join together to remove unneccessary white spaces\n",
    "    words = tok.tokenize(lower_case)\n",
    "    return (\" \".join(words)).strip()\n",
    "testing = df.Tweet[:100]\n",
    "test_result = []\n",
    "for t in testing:\n",
    "    test_result.append(tweet_cleaner(t))\n",
    "test_result"
   ]
  },
  {
   "cell_type": "code",
   "execution_count": 141,
   "metadata": {},
   "outputs": [],
   "source": [
    "from past.builtins import xrange"
   ]
  },
  {
   "cell_type": "code",
   "execution_count": 172,
   "metadata": {},
   "outputs": [
    {
     "name": "stdout",
     "output_type": "stream",
     "text": [
      "Cleaning and parsing the tweets...\n",
      "\n"
     ]
    }
   ],
   "source": [
    "nums = [0,100,500,1000,1500,2000,3000]\n",
    "print (\"Cleaning and parsing the tweets...\\n\")\n",
    "clean_tweet_texts = []\n",
    "for i in xrange(nums[1],nums[1]):\n",
    "    if( (i+1)%10000 == 0 ):\n",
    "        print (\"Tweets %d of %d has been processed\" % ( i+1, nums[1] ))                                                                   \n",
    "    clean_tweet_texts.append(tweet_cleaner(df['Tweet'][i]))"
   ]
  },
  {
   "cell_type": "code",
   "execution_count": 170,
   "metadata": {},
   "outputs": [
    {
     "data": {
      "text/html": [
       "<div>\n",
       "<style scoped>\n",
       "    .dataframe tbody tr th:only-of-type {\n",
       "        vertical-align: middle;\n",
       "    }\n",
       "\n",
       "    .dataframe tbody tr th {\n",
       "        vertical-align: top;\n",
       "    }\n",
       "\n",
       "    .dataframe thead th {\n",
       "        text-align: right;\n",
       "    }\n",
       "</style>\n",
       "<table border=\"1\" class=\"dataframe\">\n",
       "  <thead>\n",
       "    <tr style=\"text-align: right;\">\n",
       "      <th></th>\n",
       "      <th>Category</th>\n",
       "      <th>target</th>\n",
       "    </tr>\n",
       "  </thead>\n",
       "  <tbody>\n",
       "    <tr>\n",
       "      <th>0</th>\n",
       "      <td>tweet</td>\n",
       "      <td>Tweet</td>\n",
       "    </tr>\n",
       "    <tr>\n",
       "      <th>1</th>\n",
       "      <td>not available</td>\n",
       "      <td>Not Available</td>\n",
       "    </tr>\n",
       "    <tr>\n",
       "      <th>2</th>\n",
       "      <td>ios app transport security mm need to check if...</td>\n",
       "      <td>IOS 9 App Transport Security. Mm need to check...</td>\n",
       "    </tr>\n",
       "    <tr>\n",
       "      <th>3</th>\n",
       "      <td>mar if you have an ios device you should downl...</td>\n",
       "      <td>Mar if you have an iOS device, you should down...</td>\n",
       "    </tr>\n",
       "    <tr>\n",
       "      <th>4</th>\n",
       "      <td>vanagon my phone does not run on latest ios wh...</td>\n",
       "      <td>@jimmie_vanagon my phone does not run on lates...</td>\n",
       "    </tr>\n",
       "  </tbody>\n",
       "</table>\n",
       "</div>"
      ],
      "text/plain": [
       "                                            Category  \\\n",
       "0                                              tweet   \n",
       "1                                      not available   \n",
       "2  ios app transport security mm need to check if...   \n",
       "3  mar if you have an ios device you should downl...   \n",
       "4  vanagon my phone does not run on latest ios wh...   \n",
       "\n",
       "                                              target  \n",
       "0                                              Tweet  \n",
       "1                                      Not Available  \n",
       "2  IOS 9 App Transport Security. Mm need to check...  \n",
       "3  Mar if you have an iOS device, you should down...  \n",
       "4  @jimmie_vanagon my phone does not run on lates...  "
      ]
     },
     "execution_count": 170,
     "metadata": {},
     "output_type": "execute_result"
    }
   ],
   "source": [
    "clean_df = pd.DataFrame(clean_tweet_texts,columns=['Category'])\n",
    "clean_df['target'] = df.Tweet\n",
    "clean_df.head()"
   ]
  },
  {
   "cell_type": "code",
   "execution_count": 171,
   "metadata": {},
   "outputs": [
    {
     "data": {
      "text/html": [
       "<div>\n",
       "<style scoped>\n",
       "    .dataframe tbody tr th:only-of-type {\n",
       "        vertical-align: middle;\n",
       "    }\n",
       "\n",
       "    .dataframe tbody tr th {\n",
       "        vertical-align: top;\n",
       "    }\n",
       "\n",
       "    .dataframe thead th {\n",
       "        text-align: right;\n",
       "    }\n",
       "</style>\n",
       "<table border=\"1\" class=\"dataframe\">\n",
       "  <thead>\n",
       "    <tr style=\"text-align: right;\">\n",
       "      <th></th>\n",
       "      <th>Category</th>\n",
       "      <th>target</th>\n",
       "    </tr>\n",
       "  </thead>\n",
       "  <tbody>\n",
       "    <tr>\n",
       "      <th>0</th>\n",
       "      <td>tweet</td>\n",
       "      <td>Tweet</td>\n",
       "    </tr>\n",
       "    <tr>\n",
       "      <th>1</th>\n",
       "      <td>not available</td>\n",
       "      <td>Not Available</td>\n",
       "    </tr>\n",
       "    <tr>\n",
       "      <th>2</th>\n",
       "      <td>ios app transport security mm need to check if...</td>\n",
       "      <td>IOS 9 App Transport Security. Mm need to check...</td>\n",
       "    </tr>\n",
       "    <tr>\n",
       "      <th>3</th>\n",
       "      <td>mar if you have an ios device you should downl...</td>\n",
       "      <td>Mar if you have an iOS device, you should down...</td>\n",
       "    </tr>\n",
       "    <tr>\n",
       "      <th>4</th>\n",
       "      <td>vanagon my phone does not run on latest ios wh...</td>\n",
       "      <td>@jimmie_vanagon my phone does not run on lates...</td>\n",
       "    </tr>\n",
       "  </tbody>\n",
       "</table>\n",
       "</div>"
      ],
      "text/plain": [
       "                                            Category  \\\n",
       "0                                              tweet   \n",
       "1                                      not available   \n",
       "2  ios app transport security mm need to check if...   \n",
       "3  mar if you have an ios device you should downl...   \n",
       "4  vanagon my phone does not run on latest ios wh...   \n",
       "\n",
       "                                              target  \n",
       "0                                              Tweet  \n",
       "1                                      Not Available  \n",
       "2  IOS 9 App Transport Security. Mm need to check...  \n",
       "3  Mar if you have an iOS device, you should down...  \n",
       "4  @jimmie_vanagon my phone does not run on lates...  "
      ]
     },
     "execution_count": 171,
     "metadata": {},
     "output_type": "execute_result"
    }
   ],
   "source": [
    "clean_df.to_csv('clean_tweet.csv',encoding='utf-8')\n",
    "csv = 'clean_tweet.csv'\n",
    "my_df = pd.read_csv(csv,index_col=0)\n",
    "my_df.head()"
   ]
  },
  {
   "cell_type": "markdown",
   "metadata": {},
   "source": [
    "# Saving cleaned data as csv"
   ]
  },
  {
   "cell_type": "code",
   "execution_count": 173,
   "metadata": {},
   "outputs": [
    {
     "data": {
      "text/html": [
       "<div>\n",
       "<style scoped>\n",
       "    .dataframe tbody tr th:only-of-type {\n",
       "        vertical-align: middle;\n",
       "    }\n",
       "\n",
       "    .dataframe tbody tr th {\n",
       "        vertical-align: top;\n",
       "    }\n",
       "\n",
       "    .dataframe thead th {\n",
       "        text-align: right;\n",
       "    }\n",
       "</style>\n",
       "<table border=\"1\" class=\"dataframe\">\n",
       "  <thead>\n",
       "    <tr style=\"text-align: right;\">\n",
       "      <th></th>\n",
       "      <th>Category</th>\n",
       "      <th>target</th>\n",
       "    </tr>\n",
       "  </thead>\n",
       "  <tbody>\n",
       "    <tr>\n",
       "      <th>0</th>\n",
       "      <td>tweet</td>\n",
       "      <td>Tweet</td>\n",
       "    </tr>\n",
       "    <tr>\n",
       "      <th>1</th>\n",
       "      <td>not available</td>\n",
       "      <td>Not Available</td>\n",
       "    </tr>\n",
       "    <tr>\n",
       "      <th>2</th>\n",
       "      <td>ios app transport security mm need to check if...</td>\n",
       "      <td>IOS 9 App Transport Security. Mm need to check...</td>\n",
       "    </tr>\n",
       "    <tr>\n",
       "      <th>3</th>\n",
       "      <td>mar if you have an ios device you should downl...</td>\n",
       "      <td>Mar if you have an iOS device, you should down...</td>\n",
       "    </tr>\n",
       "    <tr>\n",
       "      <th>4</th>\n",
       "      <td>vanagon my phone does not run on latest ios wh...</td>\n",
       "      <td>@jimmie_vanagon my phone does not run on lates...</td>\n",
       "    </tr>\n",
       "  </tbody>\n",
       "</table>\n",
       "</div>"
      ],
      "text/plain": [
       "                                            Category  \\\n",
       "0                                              tweet   \n",
       "1                                      not available   \n",
       "2  ios app transport security mm need to check if...   \n",
       "3  mar if you have an ios device you should downl...   \n",
       "4  vanagon my phone does not run on latest ios wh...   \n",
       "\n",
       "                                              target  \n",
       "0                                              Tweet  \n",
       "1                                      Not Available  \n",
       "2  IOS 9 App Transport Security. Mm need to check...  \n",
       "3  Mar if you have an iOS device, you should down...  \n",
       "4  @jimmie_vanagon my phone does not run on lates...  "
      ]
     },
     "execution_count": 173,
     "metadata": {},
     "output_type": "execute_result"
    }
   ],
   "source": [
    "clean_df.to_csv('clean_tweet.csv',encoding='utf-8')\n",
    "csv = 'clean_tweet.csv'\n",
    "my_df = pd.read_csv(csv,index_col=0)\n",
    "my_df.head()"
   ]
  }
 ],
 "metadata": {
  "kernelspec": {
   "display_name": "Python 3",
   "language": "python",
   "name": "python3"
  },
  "language_info": {
   "codemirror_mode": {
    "name": "ipython",
    "version": 3
   },
   "file_extension": ".py",
   "mimetype": "text/x-python",
   "name": "python",
   "nbconvert_exporter": "python",
   "pygments_lexer": "ipython3",
   "version": "3.7.3"
  }
 },
 "nbformat": 4,
 "nbformat_minor": 2
}
